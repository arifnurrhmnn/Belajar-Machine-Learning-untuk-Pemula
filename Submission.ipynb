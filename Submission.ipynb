{
  "nbformat": 4,
  "nbformat_minor": 0,
  "metadata": {
    "colab": {
      "name": "Submission.ipynb",
      "provenance": [],
      "collapsed_sections": []
    },
    "kernelspec": {
      "name": "python3",
      "display_name": "Python 3"
    },
    "accelerator": "GPU"
  },
  "cells": [
    {
      "cell_type": "markdown",
      "metadata": {
        "id": "WB8QjWxMJ1fL"
      },
      "source": [
        "Nama : Arif Nur Rohman\n",
        "\n",
        "Asal : Klaten, Jawa Tengah\n",
        "\n",
        "E-mail : arifnurochman6@gmail.com"
      ]
    },
    {
      "cell_type": "markdown",
      "metadata": {
        "id": "hertfREU3gcO"
      },
      "source": [
        "# Prepare Dataset"
      ]
    },
    {
      "cell_type": "markdown",
      "metadata": {
        "id": "9QN7MOwPC2NG"
      },
      "source": [
        "Download dataset"
      ]
    },
    {
      "cell_type": "code",
      "metadata": {
        "id": "N-Kbfqnd3ayp",
        "outputId": "30ee905c-829b-49ec-88d0-4c6548a28220",
        "colab": {
          "base_uri": "https://localhost:8080/",
          "height": 216
        }
      },
      "source": [
        "!wget --no-check-certificate \\\n",
        "https://dicodingacademy.blob.core.windows.net/picodiploma/ml_pemula_academy/rockpaperscissors.zip \\\n",
        "-O /tmp/rockpaperscissors.zip"
      ],
      "execution_count": 1,
      "outputs": [
        {
          "output_type": "stream",
          "text": [
            "--2020-10-12 01:31:19--  https://dicodingacademy.blob.core.windows.net/picodiploma/ml_pemula_academy/rockpaperscissors.zip\n",
            "Resolving dicodingacademy.blob.core.windows.net (dicodingacademy.blob.core.windows.net)... 52.239.197.36\n",
            "Connecting to dicodingacademy.blob.core.windows.net (dicodingacademy.blob.core.windows.net)|52.239.197.36|:443... connected.\n",
            "HTTP request sent, awaiting response... 200 OK\n",
            "Length: 322873683 (308M) [application/zip]\n",
            "Saving to: ‘/tmp/rockpaperscissors.zip’\n",
            "\n",
            "/tmp/rockpapersciss 100%[===================>] 307.92M  24.5MB/s    in 16s     \n",
            "\n",
            "2020-10-12 01:31:36 (18.7 MB/s) - ‘/tmp/rockpaperscissors.zip’ saved [322873683/322873683]\n",
            "\n"
          ],
          "name": "stdout"
        }
      ]
    },
    {
      "cell_type": "markdown",
      "metadata": {
        "id": "bhBpWf0b4cqt"
      },
      "source": [
        "Extract the dataset file"
      ]
    },
    {
      "cell_type": "code",
      "metadata": {
        "id": "ZY5my29t4So4"
      },
      "source": [
        "import zipfile\n",
        "\n",
        "local_zip = '/tmp/rockpaperscissors.zip'\n",
        "zip_ref = zipfile.ZipFile(local_zip, 'r')\n",
        "zip_ref.extractall('/tmp')\n",
        "zip_ref.close()"
      ],
      "execution_count": 2,
      "outputs": []
    },
    {
      "cell_type": "markdown",
      "metadata": {
        "id": "F_r7JOUp4vLq"
      },
      "source": [
        "Install split-folders library"
      ]
    },
    {
      "cell_type": "code",
      "metadata": {
        "id": "3Y-a5z2u4n5w",
        "outputId": "f50e6dc7-a379-487e-9eb8-95d020679241",
        "colab": {
          "base_uri": "https://localhost:8080/",
          "height": 102
        }
      },
      "source": [
        "pip install split-folders"
      ],
      "execution_count": 3,
      "outputs": [
        {
          "output_type": "stream",
          "text": [
            "Collecting split-folders\n",
            "  Downloading https://files.pythonhosted.org/packages/d1/4b/7b282b0f9319189d71e803220748929b37d019b67b1782d14c59cb1bd940/split_folders-0.4.2-py3-none-any.whl\n",
            "Installing collected packages: split-folders\n",
            "Successfully installed split-folders-0.4.2\n"
          ],
          "name": "stdout"
        }
      ]
    },
    {
      "cell_type": "markdown",
      "metadata": {
        "id": "jvznKL365KCU"
      },
      "source": [
        "Split directory (train & val)"
      ]
    },
    {
      "cell_type": "code",
      "metadata": {
        "id": "BM4wStHz44iI",
        "outputId": "94ff9581-a54d-4e86-8bd5-bb518b491d1a",
        "colab": {
          "base_uri": "https://localhost:8080/",
          "height": 33
        }
      },
      "source": [
        "import splitfolders\n",
        "\n",
        "splitfolders.ratio(\n",
        "    '/tmp/rockpaperscissors/rps-cv-images',\n",
        "    output='/tmp/rockpaperscissors/output',\n",
        "    seed=1337,\n",
        "    ratio=(.6, .4)\n",
        ")"
      ],
      "execution_count": 4,
      "outputs": [
        {
          "output_type": "stream",
          "text": [
            "Copying files: 2188 files [00:00, 3094.56 files/s]\n"
          ],
          "name": "stderr"
        }
      ]
    },
    {
      "cell_type": "markdown",
      "metadata": {
        "id": "1ExBzHNCAvu5"
      },
      "source": [
        "# Fill in the output directory"
      ]
    },
    {
      "cell_type": "markdown",
      "metadata": {
        "id": "dYQu8GmZEgvZ"
      },
      "source": [
        "The folder in the train directory"
      ]
    },
    {
      "cell_type": "code",
      "metadata": {
        "id": "v0l_I3Y95IiM",
        "outputId": "0e8f1e2c-76ce-422b-c92a-7c750b699a35",
        "colab": {
          "base_uri": "https://localhost:8080/",
          "height": 33
        }
      },
      "source": [
        "import os\n",
        "\n",
        "os.listdir('/tmp/rockpaperscissors/output/train')"
      ],
      "execution_count": 5,
      "outputs": [
        {
          "output_type": "execute_result",
          "data": {
            "text/plain": [
              "['paper', 'scissors', 'rock']"
            ]
          },
          "metadata": {
            "tags": []
          },
          "execution_count": 5
        }
      ]
    },
    {
      "cell_type": "markdown",
      "metadata": {
        "id": "tWbKm0dbGuBi"
      },
      "source": [
        "The folder in the val directory"
      ]
    },
    {
      "cell_type": "code",
      "metadata": {
        "id": "XIPySEDHGoVq",
        "outputId": "88a3b255-db87-4a91-cd6e-f086b3c67f9b",
        "colab": {
          "base_uri": "https://localhost:8080/",
          "height": 33
        }
      },
      "source": [
        "os.listdir('/tmp/rockpaperscissors/output/val')"
      ],
      "execution_count": 6,
      "outputs": [
        {
          "output_type": "execute_result",
          "data": {
            "text/plain": [
              "['paper', 'scissors', 'rock']"
            ]
          },
          "metadata": {
            "tags": []
          },
          "execution_count": 6
        }
      ]
    },
    {
      "cell_type": "markdown",
      "metadata": {
        "id": "qAr81X0nF4Vk"
      },
      "source": [
        "Defines a directory"
      ]
    },
    {
      "cell_type": "code",
      "metadata": {
        "id": "YtoONZM2F67l"
      },
      "source": [
        "import os.path\n",
        "\n",
        "base_dir = '/tmp/rockpaperscissors/output'\n",
        "train_dir = os.path.join(base_dir, 'train')\n",
        "train_paper_dir = os.path.join(train_dir, 'paper')\n",
        "train_rock_dir = os.path.join(train_dir, 'rock')\n",
        "train_scissors_dir = os.path.join(train_dir, 'scissors')\n",
        "\n",
        "validation_dir = os.path.join(base_dir, 'val')\n",
        "val_paper_dir = os.path.join(validation_dir, 'paper')\n",
        "val_rock_dir = os.path.join(validation_dir, 'rock')\n",
        "val_scissors_dir = os.path.join(validation_dir, 'scissors')"
      ],
      "execution_count": 7,
      "outputs": []
    },
    {
      "cell_type": "markdown",
      "metadata": {
        "id": "wwnkvaO5Eyes"
      },
      "source": [
        "The total images in each folder"
      ]
    },
    {
      "cell_type": "code",
      "metadata": {
        "id": "LfaPVAbx5ifW",
        "outputId": "f94311d9-63ba-49c5-e165-7647136d8e85",
        "colab": {
          "base_uri": "https://localhost:8080/",
          "height": 131
        }
      },
      "source": [
        "print('Total training paper image:', len(os.listdir(train_paper_dir)))\n",
        "print('Total training rock image:', len(os.listdir(train_rock_dir)))\n",
        "print('Total training scissors image:', len(os.listdir(train_scissors_dir)))\n",
        "print('=================================== ')\n",
        "print('Total validation paper image:', len(os.listdir(val_paper_dir)))\n",
        "print('Total validation rock image:', len(os.listdir(val_rock_dir)))\n",
        "print('Total validation scissors image:', len(os.listdir(val_scissors_dir)))"
      ],
      "execution_count": 8,
      "outputs": [
        {
          "output_type": "stream",
          "text": [
            "Total training paper image: 427\n",
            "Total training rock image: 435\n",
            "Total training scissors image: 450\n",
            "=================================== \n",
            "Total validation paper image: 285\n",
            "Total validation rock image: 291\n",
            "Total validation scissors image: 300\n"
          ],
          "name": "stdout"
        }
      ]
    },
    {
      "cell_type": "markdown",
      "metadata": {
        "id": "_RVrBNhsIoHL"
      },
      "source": [
        "# Create a CNN architecture"
      ]
    },
    {
      "cell_type": "markdown",
      "metadata": {
        "id": "1mKeezaCJIrS"
      },
      "source": [
        "Import library tensorflow"
      ]
    },
    {
      "cell_type": "code",
      "metadata": {
        "id": "3RF6AkT_JMpg"
      },
      "source": [
        "import tensorflow as tf\n",
        "from tensorflow.keras.optimizers import RMSprop\n",
        "from tensorflow.keras.preprocessing.image import ImageDataGenerator"
      ],
      "execution_count": 9,
      "outputs": []
    },
    {
      "cell_type": "markdown",
      "metadata": {
        "id": "2kRn_C0lIt5g"
      },
      "source": [
        "CNN architectural settings"
      ]
    },
    {
      "cell_type": "code",
      "metadata": {
        "id": "TKDlvCImI0Lu"
      },
      "source": [
        "model = tf.keras.models.Sequential([                 \n",
        "    tf.keras.layers.Conv2D(32, (3,3), activation='relu', input_shape=(150, 150, 3)),\n",
        "    tf.keras.layers.MaxPooling2D(2, 2),\n",
        "    tf.keras.layers.Conv2D(64, (3,3), activation='relu'),\n",
        "    tf.keras.layers.MaxPooling2D(2,2),\n",
        "    tf.keras.layers.Conv2D(128, (3,3), activation='relu'),\n",
        "    tf.keras.layers.MaxPooling2D(2,2),\n",
        "    tf.keras.layers.Conv2D(256, (3,3), activation='relu'),\n",
        "    tf.keras.layers.MaxPooling2D(2,2),\n",
        "    tf.keras.layers.Dropout(0.1),\n",
        "    tf.keras.layers.Flatten(),\n",
        "    tf.keras.layers.Dense(512, activation='relu'),\n",
        "    tf.keras.layers.Dense(3, activation='softmax')\n",
        "])"
      ],
      "execution_count": 10,
      "outputs": []
    },
    {
      "cell_type": "markdown",
      "metadata": {
        "id": "yhw_QR-EJc4M"
      },
      "source": [
        "Compile CNN"
      ]
    },
    {
      "cell_type": "code",
      "metadata": {
        "id": "3gLDnyyXJ-ll",
        "outputId": "a85abcd7-aee1-4528-e33b-f0ae0a5e3f3b",
        "colab": {
          "base_uri": "https://localhost:8080/",
          "height": 537
        }
      },
      "source": [
        "model.compile(\n",
        "    loss='sparse_categorical_crossentropy',\n",
        "    optimizer=tf.optimizers.Adam(),\n",
        "    metrics=['accuracy']\n",
        ")\n",
        "\n",
        "model.summary()"
      ],
      "execution_count": 11,
      "outputs": [
        {
          "output_type": "stream",
          "text": [
            "Model: \"sequential\"\n",
            "_________________________________________________________________\n",
            "Layer (type)                 Output Shape              Param #   \n",
            "=================================================================\n",
            "conv2d (Conv2D)              (None, 148, 148, 32)      896       \n",
            "_________________________________________________________________\n",
            "max_pooling2d (MaxPooling2D) (None, 74, 74, 32)        0         \n",
            "_________________________________________________________________\n",
            "conv2d_1 (Conv2D)            (None, 72, 72, 64)        18496     \n",
            "_________________________________________________________________\n",
            "max_pooling2d_1 (MaxPooling2 (None, 36, 36, 64)        0         \n",
            "_________________________________________________________________\n",
            "conv2d_2 (Conv2D)            (None, 34, 34, 128)       73856     \n",
            "_________________________________________________________________\n",
            "max_pooling2d_2 (MaxPooling2 (None, 17, 17, 128)       0         \n",
            "_________________________________________________________________\n",
            "conv2d_3 (Conv2D)            (None, 15, 15, 256)       295168    \n",
            "_________________________________________________________________\n",
            "max_pooling2d_3 (MaxPooling2 (None, 7, 7, 256)         0         \n",
            "_________________________________________________________________\n",
            "dropout (Dropout)            (None, 7, 7, 256)         0         \n",
            "_________________________________________________________________\n",
            "flatten (Flatten)            (None, 12544)             0         \n",
            "_________________________________________________________________\n",
            "dense (Dense)                (None, 512)               6423040   \n",
            "_________________________________________________________________\n",
            "dense_1 (Dense)              (None, 3)                 1539      \n",
            "=================================================================\n",
            "Total params: 6,812,995\n",
            "Trainable params: 6,812,995\n",
            "Non-trainable params: 0\n",
            "_________________________________________________________________\n"
          ],
          "name": "stdout"
        }
      ]
    },
    {
      "cell_type": "markdown",
      "metadata": {
        "id": "EhK2DeD3KTIB"
      },
      "source": [
        "# Image data augmentation"
      ]
    },
    {
      "cell_type": "markdown",
      "metadata": {
        "id": "GAvtn5YPKrzc"
      },
      "source": [
        "create an ImageDataGenerator object for training and testing data"
      ]
    },
    {
      "cell_type": "code",
      "metadata": {
        "id": "qwdEW4AeKeXx"
      },
      "source": [
        "datagen = ImageDataGenerator(\n",
        "    rescale=1./255,\n",
        "    rotation_range=20,\n",
        "    width_shift_range=0.2,\n",
        "    height_shift_range=0.2,\n",
        "    shear_range = 0.2,\n",
        "    zoom_range=0.4,\n",
        "    horizontal_flip=True,\n",
        "    vertical_flip=True,\n",
        "    fill_mode = 'nearest',\n",
        "    validation_split=0.5\n",
        ")"
      ],
      "execution_count": 12,
      "outputs": []
    },
    {
      "cell_type": "markdown",
      "metadata": {
        "id": "bNVzUCtoK4bm"
      },
      "source": [
        "Prepare training data that will be studied by the model"
      ]
    },
    {
      "cell_type": "code",
      "metadata": {
        "id": "jq_R5yEaL6re",
        "outputId": "9e68a6ce-6d43-4131-fc1d-0d8950761c27",
        "colab": {
          "base_uri": "https://localhost:8080/",
          "height": 50
        }
      },
      "source": [
        "# for data training\n",
        "train_generator = datagen.flow_from_directory(\n",
        "    train_dir,\n",
        "    target_size=(150, 150),\n",
        "    batch_size=32,\n",
        "    class_mode='sparse'\n",
        ")\n",
        "\n",
        "# for data validation\n",
        "validation_generator = datagen.flow_from_directory(\n",
        "    validation_dir,\n",
        "    target_size=(150, 150),\n",
        "    batch_size=32,\n",
        "    class_mode='sparse'\n",
        ")"
      ],
      "execution_count": 13,
      "outputs": [
        {
          "output_type": "stream",
          "text": [
            "Found 1312 images belonging to 3 classes.\n",
            "Found 876 images belonging to 3 classes.\n"
          ],
          "name": "stdout"
        }
      ]
    },
    {
      "cell_type": "markdown",
      "metadata": {
        "id": "gw9jpSwBNku1"
      },
      "source": [
        "# Training model"
      ]
    },
    {
      "cell_type": "markdown",
      "metadata": {
        "id": "Gtb2Po5EOD44"
      },
      "source": [
        "create callback class"
      ]
    },
    {
      "cell_type": "code",
      "metadata": {
        "id": "6eR8Q6egOH5_"
      },
      "source": [
        "class myCallback(tf.keras.callbacks.Callback):\n",
        "  def on_epoch_end(self, epoch, logs={}):\n",
        "    if((logs.get('accuracy') > 0.98) and (logs.get('val_accuracy') > 0.98)):\n",
        "      print(\"\\n Accuracy and val_accuracy have reached 98%, the training process is stopped!\")\n",
        "      self.model.stop_training = True\n",
        "\n",
        "callbacks = myCallback()"
      ],
      "execution_count": 14,
      "outputs": []
    },
    {
      "cell_type": "markdown",
      "metadata": {
        "id": "MC4Bqs2ANree"
      },
      "source": [
        "proses training"
      ]
    },
    {
      "cell_type": "code",
      "metadata": {
        "id": "-WcFlOngNvh3",
        "outputId": "444e3ed6-30fe-461c-ee58-38ba0367878d",
        "colab": {
          "base_uri": "https://localhost:8080/",
          "height": 1000
        }
      },
      "source": [
        "training_process = model.fit(\n",
        "    train_generator,\n",
        "    steps_per_epoch=41,\n",
        "    epochs=50,\n",
        "    validation_data=validation_generator,\n",
        "    validation_steps=27,\n",
        "    verbose=2,\n",
        "    callbacks=[callbacks]\n",
        ")"
      ],
      "execution_count": 15,
      "outputs": [
        {
          "output_type": "stream",
          "text": [
            "Epoch 1/50\n",
            "41/41 - 15s - loss: 1.0724 - accuracy: 0.4154 - val_loss: 0.9354 - val_accuracy: 0.5984\n",
            "Epoch 2/50\n",
            "41/41 - 15s - loss: 0.8080 - accuracy: 0.6364 - val_loss: 0.6588 - val_accuracy: 0.7188\n",
            "Epoch 3/50\n",
            "41/41 - 15s - loss: 0.5697 - accuracy: 0.7607 - val_loss: 0.5684 - val_accuracy: 0.7431\n",
            "Epoch 4/50\n",
            "41/41 - 15s - loss: 0.4997 - accuracy: 0.8018 - val_loss: 0.4606 - val_accuracy: 0.8021\n",
            "Epoch 5/50\n",
            "41/41 - 15s - loss: 0.4181 - accuracy: 0.8399 - val_loss: 0.4642 - val_accuracy: 0.8102\n",
            "Epoch 6/50\n",
            "41/41 - 15s - loss: 0.4167 - accuracy: 0.8308 - val_loss: 0.4149 - val_accuracy: 0.8299\n",
            "Epoch 7/50\n",
            "41/41 - 15s - loss: 0.3835 - accuracy: 0.8598 - val_loss: 0.2878 - val_accuracy: 0.8947\n",
            "Epoch 8/50\n",
            "41/41 - 15s - loss: 0.3261 - accuracy: 0.8712 - val_loss: 0.2451 - val_accuracy: 0.9132\n",
            "Epoch 9/50\n",
            "41/41 - 15s - loss: 0.2415 - accuracy: 0.9139 - val_loss: 0.2451 - val_accuracy: 0.9086\n",
            "Epoch 10/50\n",
            "41/41 - 15s - loss: 0.1784 - accuracy: 0.9360 - val_loss: 0.1356 - val_accuracy: 0.9572\n",
            "Epoch 11/50\n",
            "41/41 - 15s - loss: 0.2139 - accuracy: 0.9223 - val_loss: 0.2441 - val_accuracy: 0.9363\n",
            "Epoch 12/50\n",
            "41/41 - 15s - loss: 0.1675 - accuracy: 0.9459 - val_loss: 0.1217 - val_accuracy: 0.9583\n",
            "Epoch 13/50\n",
            "41/41 - 15s - loss: 0.1412 - accuracy: 0.9512 - val_loss: 0.1079 - val_accuracy: 0.9664\n",
            "Epoch 14/50\n",
            "41/41 - 14s - loss: 0.1512 - accuracy: 0.9550 - val_loss: 0.1590 - val_accuracy: 0.9537\n",
            "Epoch 15/50\n",
            "41/41 - 15s - loss: 0.1655 - accuracy: 0.9413 - val_loss: 0.1357 - val_accuracy: 0.9560\n",
            "Epoch 16/50\n",
            "41/41 - 15s - loss: 0.1152 - accuracy: 0.9604 - val_loss: 0.1450 - val_accuracy: 0.9560\n",
            "Epoch 17/50\n",
            "41/41 - 15s - loss: 0.1070 - accuracy: 0.9680 - val_loss: 0.1181 - val_accuracy: 0.9606\n",
            "Epoch 18/50\n",
            "41/41 - 14s - loss: 0.1166 - accuracy: 0.9604 - val_loss: 0.1092 - val_accuracy: 0.9676\n",
            "Epoch 19/50\n",
            "41/41 - 15s - loss: 0.0934 - accuracy: 0.9695 - val_loss: 0.1024 - val_accuracy: 0.9606\n",
            "Epoch 20/50\n",
            "41/41 - 15s - loss: 0.0762 - accuracy: 0.9779 - val_loss: 0.1112 - val_accuracy: 0.9676\n",
            "Epoch 21/50\n",
            "41/41 - 14s - loss: 0.1029 - accuracy: 0.9680 - val_loss: 0.1023 - val_accuracy: 0.9699\n",
            "Epoch 22/50\n",
            "41/41 - 14s - loss: 0.0807 - accuracy: 0.9771 - val_loss: 0.1024 - val_accuracy: 0.9699\n",
            "Epoch 23/50\n",
            "41/41 - 14s - loss: 0.0982 - accuracy: 0.9703 - val_loss: 0.0999 - val_accuracy: 0.9757\n",
            "Epoch 24/50\n",
            "41/41 - 14s - loss: 0.0661 - accuracy: 0.9809 - val_loss: 0.1346 - val_accuracy: 0.9583\n",
            "Epoch 25/50\n",
            "41/41 - 14s - loss: 0.0909 - accuracy: 0.9703 - val_loss: 0.0757 - val_accuracy: 0.9734\n",
            "Epoch 26/50\n",
            "41/41 - 15s - loss: 0.0700 - accuracy: 0.9741 - val_loss: 0.0655 - val_accuracy: 0.9769\n",
            "Epoch 27/50\n",
            "41/41 - 14s - loss: 0.0569 - accuracy: 0.9794 - val_loss: 0.0729 - val_accuracy: 0.9792\n",
            "Epoch 28/50\n",
            "41/41 - 14s - loss: 0.0892 - accuracy: 0.9741 - val_loss: 0.1091 - val_accuracy: 0.9676\n",
            "Epoch 29/50\n",
            "41/41 - 14s - loss: 0.0749 - accuracy: 0.9741 - val_loss: 0.0964 - val_accuracy: 0.9699\n",
            "Epoch 30/50\n",
            "41/41 - 14s - loss: 0.0676 - accuracy: 0.9718 - val_loss: 0.1112 - val_accuracy: 0.9572\n",
            "Epoch 31/50\n",
            "41/41 - 14s - loss: 0.0612 - accuracy: 0.9764 - val_loss: 0.0684 - val_accuracy: 0.9792\n",
            "Epoch 32/50\n",
            "41/41 - 14s - loss: 0.0601 - accuracy: 0.9817 - val_loss: 0.0640 - val_accuracy: 0.9769\n",
            "Epoch 33/50\n",
            "\n",
            " Accuracy and val_accuracy have reached 98%, the training process is stopped!\n",
            "41/41 - 15s - loss: 0.0609 - accuracy: 0.9802 - val_loss: 0.0460 - val_accuracy: 0.9838\n"
          ],
          "name": "stdout"
        }
      ]
    },
    {
      "cell_type": "markdown",
      "metadata": {
        "id": "I_JLCTV9RstY"
      },
      "source": [
        "Visualization of the training process"
      ]
    },
    {
      "cell_type": "code",
      "metadata": {
        "id": "RAhr6HqERr0D",
        "outputId": "d656b5b5-06b6-4b22-d1c4-f6a48b9739e2",
        "colab": {
          "base_uri": "https://localhost:8080/",
          "height": 572
        }
      },
      "source": [
        "import matplotlib.pyplot as plt\n",
        "\n",
        "# history visualization accuracy model\n",
        "plt.plot(training_process.history['accuracy'])\n",
        "plt.plot(training_process.history['val_accuracy'])\n",
        "plt.title('Accuracy Model')\n",
        "plt.ylabel('accuracy')\n",
        "plt.xlabel('epoch')\n",
        "plt.legend(['train', 'val'], loc='upper left')\n",
        "plt.show()\n",
        "\n",
        "# history visualization loss model\n",
        "plt.plot(training_process.history['loss'])\n",
        "plt.plot(training_process.history['val_loss'])\n",
        "plt.title('Loss Model')\n",
        "plt.ylabel('loss')\n",
        "plt.xlabel('epoch')\n",
        "plt.legend(['train', 'val'], loc='upper left')\n",
        "plt.show()"
      ],
      "execution_count": 16,
      "outputs": [
        {
          "output_type": "display_data",
          "data": {
            "image/png": "[encoded data removed]",
            "text/plain": [
              "<Figure size 432x288 with 1 Axes>"
            ]
          },
          "metadata": {
            "tags": [],
            "needs_background": "light"
          }
        },
        {
          "output_type": "display_data",
          "data": {
            "image/png": "[encoded data removed]",
            "text/plain": [
              "<Figure size 432x288 with 1 Axes>"
            ]
          },
          "metadata": {
            "tags": [],
            "needs_background": "light"
          }
        }
      ]
    },
    {
      "cell_type": "markdown",
      "metadata": {
        "id": "iCBJGIMlU51k"
      },
      "source": [
        "# Testing "
      ]
    },
    {
      "cell_type": "code",
      "metadata": {
        "id": "fZ4E7lbqU_Zj",
        "outputId": "2975d0db-6fe4-4e55-d24c-89651926837e",
        "colab": {
          "resources": {
            "http://localhost:8080/nbextensions/google.colab/files.js": {
              "data": "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",
              "ok": true,
              "headers": [
                [
                  "content-type",
                  "application/javascript"
                ]
              ],
              "status": 200,
              "status_text": ""
            }
          },
          "base_uri": "https://localhost:8080/",
          "height": 338
        }
      },
      "source": [
        "import numpy as np\n",
        "from google.colab import files\n",
        "from keras.preprocessing import image\n",
        "import matplotlib.pyplot as plt\n",
        "import matplotlib.image as mpimg\n",
        "%matplotlib inline\n",
        " \n",
        "uploaded = files.upload()\n",
        "\n",
        "for fn in uploaded.keys():\n",
        " \n",
        "  # predicting images\n",
        "  path = fn\n",
        "  img = image.load_img(path, target_size=(150, 150))\n",
        "  imgplot = plt.imshow(img)\n",
        "  x = image.img_to_array(img)\n",
        "  x = np.expand_dims(x, axis=0)\n",
        " \n",
        "  images = np.vstack([x])\n",
        "  predictions = model.predict(images, batch_size=32)\n",
        "  max_index = np.argmax(predictions[-1])\n",
        "  classes = ('PAPER', 'ROCK', 'SCISSORS')\n",
        "  prediction = classes[max_index]\n",
        "\n",
        "  print(fn, \"is : \", prediction, \"image\")"
      ],
      "execution_count": 19,
      "outputs": [
        {
          "output_type": "display_data",
          "data": {
            "text/html": [
              "\n",
              "     <input type=\"file\" id=\"files-f7ba331c-7eb3-47ac-bf10-f9988983a731\" name=\"files[]\" multiple disabled\n",
              "        style=\"border:none\" />\n",
              "     <output id=\"result-f7ba331c-7eb3-47ac-bf10-f9988983a731\">\n",
              "      Upload widget is only available when the cell has been executed in the\n",
              "      current browser session. Please rerun this cell to enable.\n",
              "      </output>\n",
              "      <script src=\"/nbextensions/google.colab/files.js\"></script> "
            ],
            "text/plain": [
              "<IPython.core.display.HTML object>"
            ]
          },
          "metadata": {
            "tags": []
          }
        },
        {
          "output_type": "stream",
          "text": [
            "Saving batu2.png to batu2.png\n",
            "batu2.png is :  ROCK image\n"
          ],
          "name": "stdout"
        },
        {
          "output_type": "display_data",
          "data": {
            "image/png": "[encoded data removed]",
            "text/plain": [
              "<Figure size 432x288 with 1 Axes>"
            ]
          },
          "metadata": {
            "tags": [],
            "needs_background": "light"
          }
        }
      ]
    }
  ]
}